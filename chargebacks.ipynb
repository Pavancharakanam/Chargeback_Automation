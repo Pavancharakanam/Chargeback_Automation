{
 "cells": [
  {
   "cell_type": "code",
   "execution_count": null,
   "metadata": {},
   "outputs": [
    {
     "name": "stdout",
     "output_type": "stream",
     "text": [
      "IDENTIFICATION CARD\n",
      "\n",
      "Name: Geoff Sample\n",
      "\n",
      "pos: Area manager |\n",
      "\n",
      "ono: 1238626AB4\n",
      "\n",
      "‘seve January 2016 |\n",
      "\n",
      "©cies: December 2018\n",
      "|\n",
      "\n",
      "WILLIAMS\n",
      "\n",
      "Maintenance Services\n",
      "\n",
      "\n"
     ]
    }
   ],
   "source": [
    "from PIL import Image\n",
    "import pytesseract\n",
    "import enum\n",
    "import os\n",
    "\n",
    "text =''\n",
    "pytesseract.pytesseract.tesseract_cmd = r'C:\\Users\\pavan\\AppData\\Local\\Programs\\Tesseract-OCR\\tesseract.exe'\n",
    "\n",
    "path = r'C:\\Users\\pavan\\OneDrive\\Desktop\\DataEng\\Chargebacks\\images\\id_pic.png'\n",
    "image = Image.open(path)\n",
    "\n",
    "text = pytesseract.image_to_string(image)\n",
    "\n",
    "for i in text:\n",
    "    print(i)\n",
    "#print(text)"
   ]
  }
 ],
 "metadata": {
  "kernelspec": {
   "display_name": "Python 3",
   "language": "python",
   "name": "python3"
  },
  "language_info": {
   "codemirror_mode": {
    "name": "ipython",
    "version": 3
   },
   "file_extension": ".py",
   "mimetype": "text/x-python",
   "name": "python",
   "nbconvert_exporter": "python",
   "pygments_lexer": "ipython3",
   "version": "3.13.0"
  }
 },
 "nbformat": 4,
 "nbformat_minor": 2
}
